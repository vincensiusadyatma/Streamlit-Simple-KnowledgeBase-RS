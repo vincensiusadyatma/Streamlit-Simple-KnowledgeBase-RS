{
 "cells": [
  {
   "cell_type": "code",
   "execution_count": 1,
   "id": "6e64340e",
   "metadata": {},
   "outputs": [],
   "source": [
    "import numpy as np\n",
    "import pandas as pd"
   ]
  },
  {
   "cell_type": "code",
   "execution_count": 2,
   "id": "032204de",
   "metadata": {},
   "outputs": [],
   "source": [
    "phoneData = {\n",
    "    \"Case\": [1, 2, 3, 4],\n",
    "    \"Budget $\": [400, 300, 500, 450],\n",
    "    \"Screen Size (inch)\": [6.1, 5.5, 6.5, 6.0],\n",
    "    \"Battery Capacity (mAh)\": [4000, 3500, 4500, 4000],\n",
    "    \"Preferred Brand\": [\"Samsung\", \"Xiaomi\", \"OnePlus\", \"Samsung\"],\n",
    "    \"Recommended Phone\": [\n",
    "        \"Samsung Galaxy A32\",\n",
    "        \"Xiaomi Redmi 9\",\n",
    "        \"OnePlus Nord N10\",\n",
    "        \"Samsung Galaxy A52\"\n",
    "    ]\n",
    "}\n",
    "phoneData = pd.DataFrame(phoneData)\n"
   ]
  },
  {
   "cell_type": "code",
   "execution_count": 4,
   "id": "073c6740",
   "metadata": {},
   "outputs": [
    {
     "data": {
      "text/html": [
       "<div>\n",
       "<style scoped>\n",
       "    .dataframe tbody tr th:only-of-type {\n",
       "        vertical-align: middle;\n",
       "    }\n",
       "\n",
       "    .dataframe tbody tr th {\n",
       "        vertical-align: top;\n",
       "    }\n",
       "\n",
       "    .dataframe thead th {\n",
       "        text-align: right;\n",
       "    }\n",
       "</style>\n",
       "<table border=\"1\" class=\"dataframe\">\n",
       "  <thead>\n",
       "    <tr style=\"text-align: right;\">\n",
       "      <th></th>\n",
       "      <th>Case</th>\n",
       "      <th>Budget $</th>\n",
       "      <th>Screen Size (inch)</th>\n",
       "      <th>Battery Capacity (mAh)</th>\n",
       "      <th>Preferred Brand</th>\n",
       "      <th>Recommended Phone</th>\n",
       "    </tr>\n",
       "  </thead>\n",
       "  <tbody>\n",
       "    <tr>\n",
       "      <th>0</th>\n",
       "      <td>1</td>\n",
       "      <td>400</td>\n",
       "      <td>6.1</td>\n",
       "      <td>4000</td>\n",
       "      <td>Samsung</td>\n",
       "      <td>Samsung Galaxy A32</td>\n",
       "    </tr>\n",
       "    <tr>\n",
       "      <th>1</th>\n",
       "      <td>2</td>\n",
       "      <td>300</td>\n",
       "      <td>5.5</td>\n",
       "      <td>3500</td>\n",
       "      <td>Xiaomi</td>\n",
       "      <td>Xiaomi Redmi 9</td>\n",
       "    </tr>\n",
       "    <tr>\n",
       "      <th>2</th>\n",
       "      <td>3</td>\n",
       "      <td>500</td>\n",
       "      <td>6.5</td>\n",
       "      <td>4500</td>\n",
       "      <td>OnePlus</td>\n",
       "      <td>OnePlus Nord N10</td>\n",
       "    </tr>\n",
       "    <tr>\n",
       "      <th>3</th>\n",
       "      <td>4</td>\n",
       "      <td>450</td>\n",
       "      <td>6.0</td>\n",
       "      <td>4000</td>\n",
       "      <td>Samsung</td>\n",
       "      <td>Samsung Galaxy A52</td>\n",
       "    </tr>\n",
       "  </tbody>\n",
       "</table>\n",
       "</div>"
      ],
      "text/plain": [
       "   Case  Budget $  Screen Size (inch)  Battery Capacity (mAh) Preferred Brand  \\\n",
       "0     1       400                 6.1                    4000         Samsung   \n",
       "1     2       300                 5.5                    3500          Xiaomi   \n",
       "2     3       500                 6.5                    4500         OnePlus   \n",
       "3     4       450                 6.0                    4000         Samsung   \n",
       "\n",
       "    Recommended Phone  \n",
       "0  Samsung Galaxy A32  \n",
       "1      Xiaomi Redmi 9  \n",
       "2    OnePlus Nord N10  \n",
       "3  Samsung Galaxy A52  "
      ]
     },
     "execution_count": 4,
     "metadata": {},
     "output_type": "execute_result"
    }
   ],
   "source": [
    "phoneData"
   ]
  },
  {
   "cell_type": "code",
   "execution_count": null,
   "id": "4b40f1ca",
   "metadata": {},
   "outputs": [],
   "source": [
    "# Fungsi menghitung similarity score pada case based\n",
    "def hitung_similarity_score(input_data: pd.DataFrame, phoneData: pd.DataFrame) -> dict:\n",
    "    scores = {}\n",
    "    for row in range(len(phoneData)):\n",
    "        score = 0\n",
    "        \n",
    "        # Budget similarity\n",
    "        if abs(input_data.iloc[0][\"Budget $\"] - phoneData.iloc[row][\"Budget $\"]) <= 50:\n",
    "            score += 1\n",
    "        \n",
    "        # Screen Size similarity\n",
    "        if abs(input_data.iloc[0][\"Screen Size (inch)\"] - phoneData.iloc[row][\"Screen Size (inch)\"]) <= 0.5:\n",
    "            score += 1\n",
    "        \n",
    "        # Battery Capacity similarity\n",
    "        if abs(input_data.iloc[0][\"Battery Capacity (mAh)\"] - phoneData.iloc[row][\"Battery Capacity (mAh)\"]) <= 500:\n",
    "            score += 1\n",
    "        \n",
    "        # Preferred Brand similarity\n",
    "        if input_data.iloc[0][\"Preferred Brand\"] == phoneData.iloc[row][\"Preferred Brand\"]:\n",
    "            score += 1\n",
    "        \n",
    "        productName = phoneData.iloc[row][\"Recommended Phone\"]\n",
    "        scores[productName] = score  \n",
    "    \n",
    "    return scores"
   ]
  },
  {
   "cell_type": "code",
   "execution_count": 7,
   "id": "684ac2c1",
   "metadata": {},
   "outputs": [],
   "source": [
    "pengguna = {\n",
    "    \"Case\": [1],\n",
    "    \"Budget $\": [450],\n",
    "    \"Screen Size (inch)\": [6.0],\n",
    "    \"Battery Capacity (mAh)\": [4000],\n",
    "    \"Preferred Brand\": [\"Samsung\"],\n",
    "}\n",
    "user_input = pd.DataFrame(pengguna)"
   ]
  },
  {
   "cell_type": "code",
   "execution_count": 8,
   "id": "664c1103",
   "metadata": {},
   "outputs": [
    {
     "data": {
      "text/html": [
       "<div>\n",
       "<style scoped>\n",
       "    .dataframe tbody tr th:only-of-type {\n",
       "        vertical-align: middle;\n",
       "    }\n",
       "\n",
       "    .dataframe tbody tr th {\n",
       "        vertical-align: top;\n",
       "    }\n",
       "\n",
       "    .dataframe thead th {\n",
       "        text-align: right;\n",
       "    }\n",
       "</style>\n",
       "<table border=\"1\" class=\"dataframe\">\n",
       "  <thead>\n",
       "    <tr style=\"text-align: right;\">\n",
       "      <th></th>\n",
       "      <th>Case</th>\n",
       "      <th>Budget $</th>\n",
       "      <th>Screen Size (inch)</th>\n",
       "      <th>Battery Capacity (mAh)</th>\n",
       "      <th>Preferred Brand</th>\n",
       "    </tr>\n",
       "  </thead>\n",
       "  <tbody>\n",
       "    <tr>\n",
       "      <th>0</th>\n",
       "      <td>1</td>\n",
       "      <td>450</td>\n",
       "      <td>6.0</td>\n",
       "      <td>4000</td>\n",
       "      <td>Samsung</td>\n",
       "    </tr>\n",
       "  </tbody>\n",
       "</table>\n",
       "</div>"
      ],
      "text/plain": [
       "   Case  Budget $  Screen Size (inch)  Battery Capacity (mAh) Preferred Brand\n",
       "0     1       450                 6.0                    4000         Samsung"
      ]
     },
     "execution_count": 8,
     "metadata": {},
     "output_type": "execute_result"
    }
   ],
   "source": [
    "user_input"
   ]
  },
  {
   "cell_type": "code",
   "execution_count": 10,
   "id": "3faf0be3",
   "metadata": {},
   "outputs": [],
   "source": [
    "def find_best_similarity(RecommendationDict : dict) ->dict :\n",
    "    best_value = max(RecommendationDict.values())\n",
    "\n",
    "    best_list = {}\n",
    "\n",
    "    for item in RecommendationDict:\n",
    "        if(RecommendationDict[item] == best_value):\n",
    "            best_list[item] = RecommendationDict[item]\n",
    "    \n",
    "    return best_list"
   ]
  },
  {
   "cell_type": "code",
   "execution_count": 18,
   "id": "ed19bf3d",
   "metadata": {},
   "outputs": [
    {
     "data": {
      "text/plain": [
       "{'Samsung Galaxy A32': 4, 'Samsung Galaxy A52': 4}"
      ]
     },
     "execution_count": 18,
     "metadata": {},
     "output_type": "execute_result"
    }
   ],
   "source": [
    "find_best_similarity(hitung_similarity_score(user_input, phoneData))"
   ]
  },
  {
   "cell_type": "code",
   "execution_count": 12,
   "id": "57c350a1",
   "metadata": {},
   "outputs": [],
   "source": [
    "laptopData = {\n",
    "     \"Model\": [\n",
    "        \"Laptop A\",\n",
    "        \"Laptop B\",\n",
    "        \"Laptop C\",\n",
    "        \"Laptop D\",\n",
    "        \"Laptop E\"\n",
    "    ],\n",
    "    \"Budget $\": [600,750,500,700,650],\n",
    "    \"Ram\": [8,16,8,16,12],\n",
    "    \"Storage\": [256,512,128,256,512],\n",
    "    \"Processor\": [\"Intel i5\", \"Intel i7\", \"Intel i5\", \"Amd Ryzen 5\",\"Intel i5\"],\n",
    "    \"Battery Life\": [10,8,12,9,7],\n",
    "}\n",
    "laptopData = pd.DataFrame(laptopData)"
   ]
  },
  {
   "cell_type": "code",
   "execution_count": 13,
   "id": "d2a50b36",
   "metadata": {},
   "outputs": [
    {
     "data": {
      "text/html": [
       "<div>\n",
       "<style scoped>\n",
       "    .dataframe tbody tr th:only-of-type {\n",
       "        vertical-align: middle;\n",
       "    }\n",
       "\n",
       "    .dataframe tbody tr th {\n",
       "        vertical-align: top;\n",
       "    }\n",
       "\n",
       "    .dataframe thead th {\n",
       "        text-align: right;\n",
       "    }\n",
       "</style>\n",
       "<table border=\"1\" class=\"dataframe\">\n",
       "  <thead>\n",
       "    <tr style=\"text-align: right;\">\n",
       "      <th></th>\n",
       "      <th>Model</th>\n",
       "      <th>Budget $</th>\n",
       "      <th>Ram</th>\n",
       "      <th>Storage</th>\n",
       "      <th>Processor</th>\n",
       "      <th>Battery Life</th>\n",
       "    </tr>\n",
       "  </thead>\n",
       "  <tbody>\n",
       "    <tr>\n",
       "      <th>0</th>\n",
       "      <td>Laptop A</td>\n",
       "      <td>600</td>\n",
       "      <td>8</td>\n",
       "      <td>256</td>\n",
       "      <td>Intel i5</td>\n",
       "      <td>10</td>\n",
       "    </tr>\n",
       "    <tr>\n",
       "      <th>1</th>\n",
       "      <td>Laptop B</td>\n",
       "      <td>750</td>\n",
       "      <td>16</td>\n",
       "      <td>512</td>\n",
       "      <td>Intel i7</td>\n",
       "      <td>8</td>\n",
       "    </tr>\n",
       "    <tr>\n",
       "      <th>2</th>\n",
       "      <td>Laptop C</td>\n",
       "      <td>500</td>\n",
       "      <td>8</td>\n",
       "      <td>128</td>\n",
       "      <td>Intel i5</td>\n",
       "      <td>12</td>\n",
       "    </tr>\n",
       "    <tr>\n",
       "      <th>3</th>\n",
       "      <td>Laptop D</td>\n",
       "      <td>700</td>\n",
       "      <td>16</td>\n",
       "      <td>256</td>\n",
       "      <td>Amd Ryzen 5</td>\n",
       "      <td>9</td>\n",
       "    </tr>\n",
       "    <tr>\n",
       "      <th>4</th>\n",
       "      <td>Laptop E</td>\n",
       "      <td>650</td>\n",
       "      <td>12</td>\n",
       "      <td>512</td>\n",
       "      <td>Intel i5</td>\n",
       "      <td>7</td>\n",
       "    </tr>\n",
       "  </tbody>\n",
       "</table>\n",
       "</div>"
      ],
      "text/plain": [
       "      Model  Budget $  Ram  Storage    Processor  Battery Life\n",
       "0  Laptop A       600    8      256     Intel i5            10\n",
       "1  Laptop B       750   16      512     Intel i7             8\n",
       "2  Laptop C       500    8      128     Intel i5            12\n",
       "3  Laptop D       700   16      256  Amd Ryzen 5             9\n",
       "4  Laptop E       650   12      512     Intel i5             7"
      ]
     },
     "execution_count": 13,
     "metadata": {},
     "output_type": "execute_result"
    }
   ],
   "source": [
    "laptopData"
   ]
  },
  {
   "cell_type": "code",
   "execution_count": null,
   "id": "1bf7152c",
   "metadata": {},
   "outputs": [],
   "source": [
    "# Fungsi menghitung similarity score pada constraint based\n",
    "def hitung_similarity_score_contraint(laptopdata: pd.DataFrame) -> dict:\n",
    "    scores = {}\n",
    "    for row in range(len(laptopData)):\n",
    "        score = 0\n",
    "        \n",
    "        # Budget similarity\n",
    "        if abs(laptopData.iloc[row][\"Budget $\"]) <= 700:\n",
    "            score += 1\n",
    "        \n",
    "        # Screen Size similarity\n",
    "        if abs(laptopData.iloc[row][\"Ram\"]) >= 8:\n",
    "            score += 1\n",
    "        \n",
    "        # Battery Capacity similarity\n",
    "        if abs(laptopData.iloc[row][\"Storage\"]) >= 256:\n",
    "            score += 1\n",
    "        \n",
    "        # Preferred Brand similarity\n",
    "        if  laptopData.iloc[row][\"Battery Life\"] >= 8:\n",
    "            score += 1\n",
    "        \n",
    "        productName = laptopData.iloc[row][\"Model\"]\n",
    "        scores[productName] = score  \n",
    "    \n",
    "    return scores"
   ]
  },
  {
   "cell_type": "code",
   "execution_count": 22,
   "id": "28ec1ca2",
   "metadata": {},
   "outputs": [
    {
     "data": {
      "text/plain": [
       "{'Laptop A': 4, 'Laptop D': 4}"
      ]
     },
     "execution_count": 22,
     "metadata": {},
     "output_type": "execute_result"
    }
   ],
   "source": [
    "find_best_similarity(hitung_similarity_score_contraint(laptopData))"
   ]
  }
 ],
 "metadata": {
  "kernelspec": {
   "display_name": ".venv",
   "language": "python",
   "name": "python3"
  },
  "language_info": {
   "codemirror_mode": {
    "name": "ipython",
    "version": 3
   },
   "file_extension": ".py",
   "mimetype": "text/x-python",
   "name": "python",
   "nbconvert_exporter": "python",
   "pygments_lexer": "ipython3",
   "version": "3.9.13"
  }
 },
 "nbformat": 4,
 "nbformat_minor": 5
}
